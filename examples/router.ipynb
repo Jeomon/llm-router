{
 "cells": [
  {
   "cell_type": "code",
   "execution_count": 1,
   "metadata": {},
   "outputs": [],
   "source": [
    "from src.message import AIMessage,HumanMessage,SystemMessage\n",
    "from src.inference.groq import ChatGroq\n",
    "from src.router import LLMRouter\n",
    "from dotenv import load_dotenv\n",
    "import os\n",
    "\n",
    "load_dotenv()\n",
    "api_key=os.environ.get(\"GROQ_API_KEY\")"
   ]
  },
  {
   "cell_type": "code",
   "execution_count": 6,
   "metadata": {},
   "outputs": [
    {
     "name": "stdout",
     "output_type": "stream",
     "text": [
      "{'route': 'code'}\n"
     ]
    }
   ],
   "source": [
    "routes=[\n",
    "    {\n",
    "        'route':'code',\n",
    "        'description':'route to handle queries about code generation or writing code'\n",
    "    },\n",
    "    {\n",
    "        'route':'debug',\n",
    "        'description':'route to handle queries about debugging the code or fixing the error in the code'\n",
    "    },\n",
    "    {\n",
    "        'route':'misc',\n",
    "        'description':'route to handle miscellaneous queries such as code review, documentation,..etc'\n",
    "    }\n",
    "]\n",
    "\n",
    "llm=ChatGroq(model='llama3-70b-8192',api_key=api_key,temperature=0)\n",
    "router=LLMRouter(routes=routes,llm=llm)\n",
    "print(router.invoke(\"Create a program to count the number of lines in a text file\"))"
   ]
  }
 ],
 "metadata": {
  "kernelspec": {
   "display_name": "Python 3",
   "language": "python",
   "name": "python3"
  },
  "language_info": {
   "codemirror_mode": {
    "name": "ipython",
    "version": 3
   },
   "file_extension": ".py",
   "mimetype": "text/x-python",
   "name": "python",
   "nbconvert_exporter": "python",
   "pygments_lexer": "ipython3",
   "version": "3.12.5"
  }
 },
 "nbformat": 4,
 "nbformat_minor": 2
}
